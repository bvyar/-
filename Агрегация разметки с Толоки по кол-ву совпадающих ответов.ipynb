{
 "cells": [
  {
   "cell_type": "code",
   "execution_count": null,
   "metadata": {},
   "outputs": [],
   "source": [
    "import numpy as np\n",
    "import pandas as pd\n",
    "from scipy import stats\n",
    "import requests"
   ]
  },
  {
   "cell_type": "code",
   "execution_count": null,
   "metadata": {},
   "outputs": [],
   "source": [
    "rez = pd.read_csv(path, delimiter = '\\t') \n",
    "rez = pd.Series(rez.groupby('INPUT:image')['OUTPUT:result'])"
   ]
  },
  {
   "cell_type": "code",
   "execution_count": null,
   "metadata": {},
   "outputs": [],
   "source": [
    "tmp = pd.DataFrame()\n",
    "lst1 = []\n",
    "lst2 = []\n",
    "lst3 = []\n",
    "ans = np.arange(1, 4)\n",
    "for i in range(rez1.size):\n",
    "    url = rez1[i][0]\n",
    "    labels = list(rez1[i][1])\n",
    "    res = [labels.count(i) for i in ans]\n",
    "    kolvo_peresecheniy = max(res) / len(labels)\n",
    "    lst1.append(kolvo_peresecheniy)\n",
    "    predict = stats.mode(labels)\n",
    "    lst2.append(int((str(predict[0]).split(\"[\")[1]).split(\"]\")[0]))\n",
    "    lst3.append(len(labels))\n",
    "    print(url, str(labels) + '|', kolvo_peresecheniy, predict[0])"
   ]
  },
  {
   "cell_type": "code",
   "execution_count": null,
   "metadata": {},
   "outputs": [],
   "source": [
    "urls = [rez1[i][0] for i in range(rez1.shape[0])]\n",
    "labels = [list(rez1[i][1]) for i in range(rez1.shape[0])]\n",
    "tmp = pd.DataFrame({'Url': urls, \"Labels\": labels, \"Intersepts\": lst3, \"% intersept\": lst1, \"Predict\": lst2})\n",
    "images = tmp[['Url', '% intersept', 'Predict']]"
   ]
  },
  {
   "cell_type": "code",
   "execution_count": null,
   "metadata": {},
   "outputs": [],
   "source": [
    "for i in range(images.shape[0]):\n",
    "    percent_inter = images['% intersept'][i]\n",
    "    label = str(images['Predict'][i])\n",
    "    url = images['Url'][i]\n",
    "    if(percent_inter >= 0.7):\n",
    "        download_photo(url, ua, 'больше или равно 0.7/' + label + '/')\n",
    "    if(percent_inter < 0.7):\n",
    "        download_photo(url, ua, 'меньше 0.7/' + label + '/')"
   ]
  }
 ],
 "metadata": {
  "kernelspec": {
   "display_name": "Python 3",
   "language": "python",
   "name": "python3"
  },
  "language_info": {
   "codemirror_mode": {
    "name": "ipython",
    "version": 3
   },
   "file_extension": ".py",
   "mimetype": "text/x-python",
   "name": "python",
   "nbconvert_exporter": "python",
   "pygments_lexer": "ipython3",
   "version": "3.7.4"
  }
 },
 "nbformat": 4,
 "nbformat_minor": 2
}
